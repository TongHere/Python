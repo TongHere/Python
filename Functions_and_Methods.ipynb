{
  "nbformat": 4,
  "nbformat_minor": 0,
  "metadata": {
    "colab": {
      "provenance": [],
      "authorship_tag": "ABX9TyMcxyLfAURR15TK90vSRjVA",
      "include_colab_link": true
    },
    "kernelspec": {
      "name": "python3",
      "display_name": "Python 3"
    },
    "language_info": {
      "name": "python"
    }
  },
  "cells": [
    {
      "cell_type": "markdown",
      "metadata": {
        "id": "view-in-github",
        "colab_type": "text"
      },
      "source": [
        "<a href=\"https://colab.research.google.com/github/TongHere/Python/blob/main/Functions_and_Methods.ipynb\" target=\"_parent\"><img src=\"https://colab.research.google.com/assets/colab-badge.svg\" alt=\"Open In Colab\"/></a>"
      ]
    },
    {
      "cell_type": "code",
      "execution_count": null,
      "metadata": {
        "id": "pxCcu5hFwgiT"
      },
      "outputs": [],
      "source": [
        "def splicer(mystring): \n",
        "  if len(mystring)%2 == 0: \n",
        "    return 'even'\n",
        "  else:\n",
        "   return mystring[0]"
      ]
    },
    {
      "cell_type": "code",
      "source": [
        "names =['hallo','you','me']"
      ],
      "metadata": {
        "id": "Xnz7F2zS5mwT"
      },
      "execution_count": null,
      "outputs": []
    },
    {
      "cell_type": "code",
      "source": [
        "splicer(names)"
      ],
      "metadata": {
        "colab": {
          "base_uri": "https://localhost:8080/",
          "height": 35
        },
        "id": "I0kcXj_k6IcD",
        "outputId": "2517f81b-a80c-41ad-8a79-ad9a98ba63ab"
      },
      "execution_count": null,
      "outputs": [
        {
          "output_type": "execute_result",
          "data": {
            "text/plain": [
              "'hallo'"
            ],
            "application/vnd.google.colaboratory.intrinsic+json": {
              "type": "string"
            }
          },
          "metadata": {},
          "execution_count": 6
        }
      ]
    },
    {
      "cell_type": "code",
      "source": [
        "list(map(splicer,names))"
      ],
      "metadata": {
        "colab": {
          "base_uri": "https://localhost:8080/"
        },
        "id": "PRdB8eT16CS3",
        "outputId": "0ee19358-73ec-4ebf-b735-e9171550cf0c"
      },
      "execution_count": null,
      "outputs": [
        {
          "output_type": "execute_result",
          "data": {
            "text/plain": [
              "['h', 'y', 'even']"
            ]
          },
          "metadata": {},
          "execution_count": 5
        }
      ]
    },
    {
      "cell_type": "code",
      "source": [
        "y= [splicer(mystring) for mystring in names]\n",
        "print(y)"
      ],
      "metadata": {
        "colab": {
          "base_uri": "https://localhost:8080/"
        },
        "id": "QdJBSd9S6M9I",
        "outputId": "44fa54e6-c195-40eb-ac45-8b816bae8b8e"
      },
      "execution_count": null,
      "outputs": [
        {
          "output_type": "stream",
          "name": "stdout",
          "text": [
            "['h', 'y', 'even']\n"
          ]
        }
      ]
    },
    {
      "cell_type": "markdown",
      "source": [
        "Functions and Methods Homework\n",
        "Complete the following questions: ____ Write a function that computes the volume of a sphere given its radius.\n",
        "\n",
        "The volume of a sphere is given as Write a function that computes the volume of a sphere given its radius."
      ],
      "metadata": {
        "id": "r97xsErJtXNg"
      }
    },
    {
      "cell_type": "code",
      "source": [
        "def vol(rad):\n",
        "  return (4/3)*3.14* rad**3 "
      ],
      "metadata": {
        "id": "7A4MxuOz6mYn"
      },
      "execution_count": null,
      "outputs": []
    },
    {
      "cell_type": "code",
      "source": [
        "# Check\n",
        "vol(2)"
      ],
      "metadata": {
        "colab": {
          "base_uri": "https://localhost:8080/"
        },
        "id": "kVX2PnS2t3M1",
        "outputId": "586a589d-f127-4356-979c-5a048415bd74"
      },
      "execution_count": null,
      "outputs": [
        {
          "output_type": "execute_result",
          "data": {
            "text/plain": [
              "33.49333333333333"
            ]
          },
          "metadata": {},
          "execution_count": 3
        }
      ]
    },
    {
      "cell_type": "markdown",
      "source": [
        "\n",
        "Write a function that checks whether a number is in a given range (inclusive of high and low)"
      ],
      "metadata": {
        "id": "ZvAGE_oSt7ps"
      }
    },
    {
      "cell_type": "code",
      "source": [
        "def ran_check(num,low,high): \n",
        "   if low <num < high:\n",
        "     print('{} is in the range of {} and {}'.format(num,low,high)) \n",
        "   else: \n",
        "    pass"
      ],
      "metadata": {
        "id": "ZjYOt99Dt4IO"
      },
      "execution_count": null,
      "outputs": []
    },
    {
      "cell_type": "code",
      "source": [
        "# Check\n",
        "ran_check(5,2,7)"
      ],
      "metadata": {
        "colab": {
          "base_uri": "https://localhost:8080/"
        },
        "id": "3qUKshSOuR1m",
        "outputId": "f64b3432-49b6-48a6-ff2e-7112ef3ca585"
      },
      "execution_count": null,
      "outputs": [
        {
          "output_type": "stream",
          "name": "stdout",
          "text": [
            "5 is in the range of 2 and 7\n"
          ]
        }
      ]
    },
    {
      "cell_type": "code",
      "source": [
        "# Check\n",
        "ran_check(5,6,9)"
      ],
      "metadata": {
        "id": "ApA07neXueda"
      },
      "execution_count": null,
      "outputs": []
    },
    {
      "cell_type": "markdown",
      "source": [
        "\n",
        "Write a Python function that accepts a string and calculates the number of upper case letters and lower case letters.\n",
        "\n",
        "Sample String : 'Hello Mr. Rogers, how are you this fine Tuesday?'\n",
        "Expected Output : \n",
        "No. of Upper case characters : 4\n",
        "No. of Lower case Characters : 33"
      ],
      "metadata": {
        "id": "F5INk7jnxoCq"
      }
    },
    {
      "cell_type": "code",
      "source": [
        "def up_low(s): \n",
        "   uppercount = 0\n",
        "   lowercount = 0\n",
        "   words = s.split()\n",
        "   for char in s: \n",
        "      if char.isupper() :\n",
        "        uppercount += 1 \n",
        "      elif char.islower():\n",
        "        lowercount += 1\n",
        "      else: \n",
        "        pass\n",
        "   print(\"No. of Upper case characters:\",uppercount) \n",
        "   print(\"No. of Lower case characters:\",lowercount)"
      ],
      "metadata": {
        "id": "LqgbiWFAulgh"
      },
      "execution_count": null,
      "outputs": []
    },
    {
      "cell_type": "code",
      "source": [
        "up_low('Hello Mr. Rogers, how are you this fine Tuesday')"
      ],
      "metadata": {
        "colab": {
          "base_uri": "https://localhost:8080/"
        },
        "id": "84pGSdh5y8KT",
        "outputId": "b43b8197-ba43-4b0e-d30e-d2c144f61ce2"
      },
      "execution_count": null,
      "outputs": [
        {
          "output_type": "stream",
          "name": "stdout",
          "text": [
            "No. of Upper case characters: 4\n",
            "No. of Lower case characters: 33\n"
          ]
        }
      ]
    },
    {
      "cell_type": "code",
      "source": [
        "def up_low(s):\n",
        "    d={\"upper\":0, \"lower\":0}\n",
        "    for c in s:\n",
        "        if c.isupper():\n",
        "            d[\"upper\"]+=1\n",
        "        elif c.islower():\n",
        "            d[\"lower\"]+=1\n",
        "        else:\n",
        "            pass\n",
        "    print(\"Original String : \", s)\n",
        "    print(\"No. of Upper case characters : \", d[\"upper\"])\n",
        "    print(\"No. of Lower case Characters : \", d[\"lower\"])"
      ],
      "metadata": {
        "id": "2tFQQ7ab0vAC"
      },
      "execution_count": null,
      "outputs": []
    },
    {
      "cell_type": "code",
      "source": [
        "s = 'Hello Mr. Rogers, how are you this fine Tuesday?'\n",
        "up_low(s)"
      ],
      "metadata": {
        "colab": {
          "base_uri": "https://localhost:8080/"
        },
        "id": "dBHvcWH20x0c",
        "outputId": "0844a629-70a2-40ca-df9e-d0c28d14aa65"
      },
      "execution_count": null,
      "outputs": [
        {
          "output_type": "stream",
          "name": "stdout",
          "text": [
            "Original String :  Hello Mr. Rogers, how are you this fine Tuesday?\n",
            "No. of Upper case characters :  4\n",
            "No. of Lower case Characters :  33\n"
          ]
        }
      ]
    },
    {
      "cell_type": "code",
      "source": [
        "def check(num,low,high): \n",
        "  if num in range(low,high): \n",
        "    print('yes')"
      ],
      "metadata": {
        "id": "V00ceGp85fN5"
      },
      "execution_count": null,
      "outputs": []
    },
    {
      "cell_type": "code",
      "source": [
        "check(5,4,9)"
      ],
      "metadata": {
        "colab": {
          "base_uri": "https://localhost:8080/"
        },
        "id": "wIze5Y005upL",
        "outputId": "90e408d5-114c-41f9-8a42-dcd5c384dabf"
      },
      "execution_count": null,
      "outputs": [
        {
          "output_type": "stream",
          "name": "stdout",
          "text": [
            "yes\n"
          ]
        }
      ]
    },
    {
      "cell_type": "code",
      "source": [
        "def check(num,low,high): \n",
        "  if num in range(low,high+1): \n",
        "    print('yes')"
      ],
      "metadata": {
        "id": "_-DqQNo652gZ"
      },
      "execution_count": null,
      "outputs": []
    },
    {
      "cell_type": "code",
      "source": [
        "check(10,4,9)"
      ],
      "metadata": {
        "id": "Pp-6ScIm54kw"
      },
      "execution_count": null,
      "outputs": []
    },
    {
      "cell_type": "markdown",
      "source": [
        "Write a Python function that takes a list and returns a new list with unique elements of the first list.\n",
        "\n",
        "Sample List : [1,1,1,1,2,2,3,3,3,3,4,5]\n",
        "Unique List : [1, 2, 3, 4, 5]"
      ],
      "metadata": {
        "id": "KrjiLk80_Tre"
      }
    },
    {
      "cell_type": "code",
      "source": [
        "def unique_list(lst): \n",
        "  x=[]\n",
        "  for i in lst:\n",
        "    if i not in x:\n",
        "      x.append(i)\n",
        "  return x"
      ],
      "metadata": {
        "id": "T4vgYboE_TKj"
      },
      "execution_count": null,
      "outputs": []
    },
    {
      "cell_type": "code",
      "source": [
        "lost = [1,1,1,1,2,2,3,3,3,3,4,5]\n",
        "unique_list(lost)"
      ],
      "metadata": {
        "colab": {
          "base_uri": "https://localhost:8080/"
        },
        "id": "gANcK8f7B0hQ",
        "outputId": "9d7039d2-6af9-40ad-df4f-7e5062e10a8d"
      },
      "execution_count": null,
      "outputs": [
        {
          "output_type": "execute_result",
          "data": {
            "text/plain": [
              "[1, 2, 3, 4, 5]"
            ]
          },
          "metadata": {},
          "execution_count": 12
        }
      ]
    },
    {
      "cell_type": "markdown",
      "source": [
        "Write a Python function to multiply all the numbers in a list."
      ],
      "metadata": {
        "id": "Zjb-Qr-uEqmK"
      }
    },
    {
      "cell_type": "code",
      "source": [
        "def multiply(numbers):\n",
        "  total =1\n",
        "  for x in numbers: \n",
        "    total *= x\n",
        "  return total"
      ],
      "metadata": {
        "id": "0vGfYomUEsyw"
      },
      "execution_count": null,
      "outputs": []
    },
    {
      "cell_type": "markdown",
      "source": [
        "Write a Python function that checks whether a word or phrase is palindrome or not.\n",
        "\n",
        "Note: A palindrome is word, phrase, or sequence that reads the same backward as forward, e.g., madam,kayak,racecar, or a phrase \"nurses run\". Hint: You may want to check out the .replace() method in a string to help out with dealing with spaces. Also google search how to reverse a string in Python, there are some clever ways to do it with slicing notation."
      ],
      "metadata": {
        "id": "XXOECfHSGe3-"
      }
    },
    {
      "cell_type": "code",
      "source": [
        "def palindrome(s):\n",
        "  return s[::-1] #reverse string"
      ],
      "metadata": {
        "id": "eUdgwiKDGfjB"
      },
      "execution_count": null,
      "outputs": []
    },
    {
      "cell_type": "code",
      "source": [
        "palindrome('This')"
      ],
      "metadata": {
        "colab": {
          "base_uri": "https://localhost:8080/",
          "height": 35
        },
        "id": "VS8L0GInIYw0",
        "outputId": "766c8f94-1027-482f-8fe5-cc8768d7b2b5"
      },
      "execution_count": null,
      "outputs": [
        {
          "output_type": "execute_result",
          "data": {
            "text/plain": [
              "'sihT'"
            ],
            "application/vnd.google.colaboratory.intrinsic+json": {
              "type": "string"
            }
          },
          "metadata": {},
          "execution_count": 18
        }
      ]
    },
    {
      "cell_type": "code",
      "source": [
        "def palindrome(s):\n",
        "    s = s.replace(' ','') # This replaces all spaces ' ' with no space ''. (Fixes issues with strings that have spaces)\n",
        "    return s == s[::-1]   # Check through slicing"
      ],
      "metadata": {
        "id": "qnLYG8anJHu3"
      },
      "execution_count": null,
      "outputs": []
    },
    {
      "cell_type": "code",
      "source": [
        "palindrome('nurses run')"
      ],
      "metadata": {
        "colab": {
          "base_uri": "https://localhost:8080/"
        },
        "id": "MQiB1zD-JIpY",
        "outputId": "50ca2967-9453-4df8-9b4d-3b36b4b9ea9d"
      },
      "execution_count": null,
      "outputs": [
        {
          "output_type": "execute_result",
          "data": {
            "text/plain": [
              "True"
            ]
          },
          "metadata": {},
          "execution_count": 20
        }
      ]
    },
    {
      "cell_type": "markdown",
      "source": [
        "Hard:\n",
        "Write a Python function to check whether a string is pangram or not. (Assume the string passed in does not have any punctuation)\n",
        "\n",
        "Note : Pangrams are words or sentences containing every letter of the alphabet at least once.\n",
        "For example : \"The quick brown fox jumps over the lazy dog\"\n",
        "\n",
        "Hint: You may want to use .replace() method to get rid of spaces.\n",
        "\n",
        "Hint: Look at the string module\n",
        "\n",
        "Hint: In case you want to use set comparisons"
      ],
      "metadata": {
        "id": "BRgpz-isI_-F"
      }
    },
    {
      "cell_type": "code",
      "source": [
        "import string\n",
        "\n",
        "def ispangram(str1, alphabet=string.ascii_lowercase): \n",
        "    # Create a set of the alphabet\n",
        "    alphaset = set(alphabet)  \n",
        "    print(alphaset)\n",
        "    # Remove spaces from str1\n",
        "    str1 = str1.replace(\" \",'')\n",
        "    print(str1)\n",
        "    # Lowercase all strings in the passed in string\n",
        "    # Recall we assume no punctuation \n",
        "    str1 = str1.lower()\n",
        "    print(str1)\n",
        "    # Grab all unique letters in the string as a set\n",
        "    str1 = set(str1)\n",
        "    print(str1)\n",
        "    # Now check that the alpahbet set is same as string set\n",
        "    return str1 == alphaset\n"
      ],
      "metadata": {
        "id": "bbmp9LYII6Lv"
      },
      "execution_count": 14,
      "outputs": []
    },
    {
      "cell_type": "code",
      "source": [
        "ispangram(\"The quick brown fox jumps over the lazy dog\")"
      ],
      "metadata": {
        "colab": {
          "base_uri": "https://localhost:8080/"
        },
        "id": "zqZ0qBgh68q7",
        "outputId": "4150d0b6-0b1e-4bd8-9f3e-d45f7735fb0a"
      },
      "execution_count": 15,
      "outputs": [
        {
          "output_type": "stream",
          "name": "stdout",
          "text": [
            "{'h', 'm', 'f', 'e', 'v', 'c', 'g', 'j', 'r', 'k', 'w', 'z', 'u', 'p', 'n', 'l', 'a', 'x', 't', 'i', 's', 'd', 'q', 'b', 'y', 'o'}\n",
            "Thequickbrownfoxjumpsoverthelazydog\n",
            "thequickbrownfoxjumpsoverthelazydog\n",
            "{'h', 'm', 'f', 'e', 'v', 'c', 'r', 'j', 'g', 'k', 'w', 'z', 'u', 'p', 'n', 'l', 'a', 'x', 't', 'i', 's', 'd', 'q', 'b', 'y', 'o'}\n"
          ]
        },
        {
          "output_type": "execute_result",
          "data": {
            "text/plain": [
              "True"
            ]
          },
          "metadata": {},
          "execution_count": 15
        }
      ]
    },
    {
      "cell_type": "code",
      "source": [
        "ispangram(\"lazy dog\")"
      ],
      "metadata": {
        "colab": {
          "base_uri": "https://localhost:8080/"
        },
        "id": "kVU3uxHuKUqi",
        "outputId": "ad2bff95-2924-4d46-80be-4d24adb19e09"
      },
      "execution_count": 6,
      "outputs": [
        {
          "output_type": "execute_result",
          "data": {
            "text/plain": [
              "False"
            ]
          },
          "metadata": {},
          "execution_count": 6
        }
      ]
    }
  ]
}