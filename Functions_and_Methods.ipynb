{
  "nbformat": 4,
  "nbformat_minor": 0,
  "metadata": {
    "colab": {
      "provenance": [],
      "authorship_tag": "ABX9TyN/PQsEEykK6j2CpYQXW8x0",
      "include_colab_link": true
    },
    "kernelspec": {
      "name": "python3",
      "display_name": "Python 3"
    },
    "language_info": {
      "name": "python"
    }
  },
  "cells": [
    {
      "cell_type": "markdown",
      "metadata": {
        "id": "view-in-github",
        "colab_type": "text"
      },
      "source": [
        "<a href=\"https://colab.research.google.com/github/TongHere/Python/blob/main/Functions_and_Methods.ipynb\" target=\"_parent\"><img src=\"https://colab.research.google.com/assets/colab-badge.svg\" alt=\"Open In Colab\"/></a>"
      ]
    },
    {
      "cell_type": "code",
      "execution_count": null,
      "metadata": {
        "id": "pxCcu5hFwgiT"
      },
      "outputs": [],
      "source": [
        "def splicer(mystring): \n",
        "  if len(mystring)%2 == 0: \n",
        "    return 'even'\n",
        "  else:\n",
        "   return mystring[0]"
      ]
    },
    {
      "cell_type": "code",
      "source": [
        "names =['hallo','you','me']"
      ],
      "metadata": {
        "id": "Xnz7F2zS5mwT"
      },
      "execution_count": null,
      "outputs": []
    },
    {
      "cell_type": "code",
      "source": [
        "splicer(names)"
      ],
      "metadata": {
        "colab": {
          "base_uri": "https://localhost:8080/",
          "height": 35
        },
        "id": "I0kcXj_k6IcD",
        "outputId": "2517f81b-a80c-41ad-8a79-ad9a98ba63ab"
      },
      "execution_count": null,
      "outputs": [
        {
          "output_type": "execute_result",
          "data": {
            "text/plain": [
              "'hallo'"
            ],
            "application/vnd.google.colaboratory.intrinsic+json": {
              "type": "string"
            }
          },
          "metadata": {},
          "execution_count": 6
        }
      ]
    },
    {
      "cell_type": "code",
      "source": [
        "list(map(splicer,names))"
      ],
      "metadata": {
        "colab": {
          "base_uri": "https://localhost:8080/"
        },
        "id": "PRdB8eT16CS3",
        "outputId": "0ee19358-73ec-4ebf-b735-e9171550cf0c"
      },
      "execution_count": null,
      "outputs": [
        {
          "output_type": "execute_result",
          "data": {
            "text/plain": [
              "['h', 'y', 'even']"
            ]
          },
          "metadata": {},
          "execution_count": 5
        }
      ]
    },
    {
      "cell_type": "code",
      "source": [
        "y= [splicer(mystring) for mystring in names]\n",
        "print(y)"
      ],
      "metadata": {
        "colab": {
          "base_uri": "https://localhost:8080/"
        },
        "id": "QdJBSd9S6M9I",
        "outputId": "44fa54e6-c195-40eb-ac45-8b816bae8b8e"
      },
      "execution_count": null,
      "outputs": [
        {
          "output_type": "stream",
          "name": "stdout",
          "text": [
            "['h', 'y', 'even']\n"
          ]
        }
      ]
    },
    {
      "cell_type": "markdown",
      "source": [
        "Functions and Methods Homework\n",
        "Complete the following questions: ____ Write a function that computes the volume of a sphere given its radius.\n",
        "\n",
        "The volume of a sphere is given as Write a function that computes the volume of a sphere given its radius."
      ],
      "metadata": {
        "id": "r97xsErJtXNg"
      }
    },
    {
      "cell_type": "code",
      "source": [
        "def vol(rad):\n",
        "  return (4/3)*3.14* rad**3 "
      ],
      "metadata": {
        "id": "7A4MxuOz6mYn"
      },
      "execution_count": 2,
      "outputs": []
    },
    {
      "cell_type": "code",
      "source": [
        "# Check\n",
        "vol(2)"
      ],
      "metadata": {
        "colab": {
          "base_uri": "https://localhost:8080/"
        },
        "id": "kVX2PnS2t3M1",
        "outputId": "586a589d-f127-4356-979c-5a048415bd74"
      },
      "execution_count": 3,
      "outputs": [
        {
          "output_type": "execute_result",
          "data": {
            "text/plain": [
              "33.49333333333333"
            ]
          },
          "metadata": {},
          "execution_count": 3
        }
      ]
    },
    {
      "cell_type": "markdown",
      "source": [
        "\n",
        "Write a function that checks whether a number is in a given range (inclusive of high and low)"
      ],
      "metadata": {
        "id": "ZvAGE_oSt7ps"
      }
    },
    {
      "cell_type": "code",
      "source": [
        "def ran_check(num,low,high): \n",
        "   if low <num < high:\n",
        "     print('{} is in the range of {} and {}'.format(num,low,high)) \n",
        "   else: \n",
        "    pass"
      ],
      "metadata": {
        "id": "ZjYOt99Dt4IO"
      },
      "execution_count": 8,
      "outputs": []
    },
    {
      "cell_type": "code",
      "source": [
        "# Check\n",
        "ran_check(5,2,7)"
      ],
      "metadata": {
        "colab": {
          "base_uri": "https://localhost:8080/"
        },
        "id": "3qUKshSOuR1m",
        "outputId": "f64b3432-49b6-48a6-ff2e-7112ef3ca585"
      },
      "execution_count": 9,
      "outputs": [
        {
          "output_type": "stream",
          "name": "stdout",
          "text": [
            "5 is in the range of 2 and 7\n"
          ]
        }
      ]
    },
    {
      "cell_type": "code",
      "source": [
        "# Check\n",
        "ran_check(5,6,9)"
      ],
      "metadata": {
        "id": "ApA07neXueda"
      },
      "execution_count": 6,
      "outputs": []
    },
    {
      "cell_type": "markdown",
      "source": [
        "\n",
        "Write a Python function that accepts a string and calculates the number of upper case letters and lower case letters.\n",
        "\n",
        "Sample String : 'Hello Mr. Rogers, how are you this fine Tuesday?'\n",
        "Expected Output : \n",
        "No. of Upper case characters : 4\n",
        "No. of Lower case Characters : 33"
      ],
      "metadata": {
        "id": "F5INk7jnxoCq"
      }
    },
    {
      "cell_type": "code",
      "source": [
        "def up_low(s): \n",
        "   uppercount = 0\n",
        "   lowercount = 0\n",
        "   words = s.split()\n",
        "   for char in s: \n",
        "      if char.isupper() :\n",
        "        uppercount += 1 \n",
        "      elif char.islower():\n",
        "        lowercount += 1\n",
        "      else: \n",
        "        pass\n",
        "   print(\"No. of Upper case characters:\",uppercount) \n",
        "   print(\"No. of Lower case characters:\",lowercount)"
      ],
      "metadata": {
        "id": "LqgbiWFAulgh"
      },
      "execution_count": 47,
      "outputs": []
    },
    {
      "cell_type": "code",
      "source": [
        "up_low('Hello Mr. Rogers, how are you this fine Tuesday')"
      ],
      "metadata": {
        "colab": {
          "base_uri": "https://localhost:8080/"
        },
        "id": "84pGSdh5y8KT",
        "outputId": "b43b8197-ba43-4b0e-d30e-d2c144f61ce2"
      },
      "execution_count": 48,
      "outputs": [
        {
          "output_type": "stream",
          "name": "stdout",
          "text": [
            "No. of Upper case characters: 4\n",
            "No. of Lower case characters: 33\n"
          ]
        }
      ]
    },
    {
      "cell_type": "code",
      "source": [
        "def up_low(s):\n",
        "    d={\"upper\":0, \"lower\":0}\n",
        "    for c in s:\n",
        "        if c.isupper():\n",
        "            d[\"upper\"]+=1\n",
        "        elif c.islower():\n",
        "            d[\"lower\"]+=1\n",
        "        else:\n",
        "            pass\n",
        "    print(\"Original String : \", s)\n",
        "    print(\"No. of Upper case characters : \", d[\"upper\"])\n",
        "    print(\"No. of Lower case Characters : \", d[\"lower\"])"
      ],
      "metadata": {
        "id": "2tFQQ7ab0vAC"
      },
      "execution_count": 33,
      "outputs": []
    },
    {
      "cell_type": "code",
      "source": [
        "s = 'Hello Mr. Rogers, how are you this fine Tuesday?'\n",
        "up_low(s)"
      ],
      "metadata": {
        "colab": {
          "base_uri": "https://localhost:8080/"
        },
        "id": "dBHvcWH20x0c",
        "outputId": "0844a629-70a2-40ca-df9e-d0c28d14aa65"
      },
      "execution_count": 34,
      "outputs": [
        {
          "output_type": "stream",
          "name": "stdout",
          "text": [
            "Original String :  Hello Mr. Rogers, how are you this fine Tuesday?\n",
            "No. of Upper case characters :  4\n",
            "No. of Lower case Characters :  33\n"
          ]
        }
      ]
    },
    {
      "cell_type": "code",
      "source": [
        "def check(num,low,high): \n",
        "  if num in range(low,high): \n",
        "    print('yes')"
      ],
      "metadata": {
        "id": "V00ceGp85fN5"
      },
      "execution_count": 49,
      "outputs": []
    },
    {
      "cell_type": "code",
      "source": [
        "check(5,4,9)"
      ],
      "metadata": {
        "colab": {
          "base_uri": "https://localhost:8080/"
        },
        "id": "wIze5Y005upL",
        "outputId": "90e408d5-114c-41f9-8a42-dcd5c384dabf"
      },
      "execution_count": 51,
      "outputs": [
        {
          "output_type": "stream",
          "name": "stdout",
          "text": [
            "yes\n"
          ]
        }
      ]
    },
    {
      "cell_type": "code",
      "source": [
        "def check(num,low,high): \n",
        "  if num in range(low,high+1): \n",
        "    print('yes')"
      ],
      "metadata": {
        "id": "_-DqQNo652gZ"
      },
      "execution_count": 52,
      "outputs": []
    },
    {
      "cell_type": "code",
      "source": [
        "check(10,4,9)"
      ],
      "metadata": {
        "id": "Pp-6ScIm54kw"
      },
      "execution_count": 55,
      "outputs": []
    }
  ]
}