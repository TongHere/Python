{
  "nbformat": 4,
  "nbformat_minor": 0,
  "metadata": {
    "colab": {
      "provenance": [],
      "authorship_tag": "ABX9TyMhGM42Oqm/yxzd8h9De1tv",
      "include_colab_link": true
    },
    "kernelspec": {
      "name": "python3",
      "display_name": "Python 3"
    },
    "language_info": {
      "name": "python"
    }
  },
  "cells": [
    {
      "cell_type": "markdown",
      "metadata": {
        "id": "view-in-github",
        "colab_type": "text"
      },
      "source": [
        "<a href=\"https://colab.research.google.com/github/TongHere/Python/blob/main/03_Function_Practice_Exercises.ipynb\" target=\"_parent\"><img src=\"https://colab.research.google.com/assets/colab-badge.svg\" alt=\"Open In Colab\"/></a>"
      ]
    },
    {
      "cell_type": "markdown",
      "source": [
        "Content Copyright by Pierian Data\n",
        "Function Practice Exercises\n",
        "Problems are arranged in increasing difficulty:\n",
        "\n",
        "Warmup - these can be solved using basic comparisons and methods\n",
        "Level 1 - these may involve if/then conditional statements and simple methods\n",
        "Level 2 - these may require iterating over sequences, usually with some kind of loop\n",
        "Challenging - these will take some creativity to solve"
      ],
      "metadata": {
        "id": "JFKTDjDDuLtH"
      }
    },
    {
      "cell_type": "markdown",
      "source": [
        "WARMUP SECTION:\n",
        "LESSER OF TWO EVENS: Write a function that returns the lesser of two given numbers if both numbers are even, but returns the greater if one or both numbers are odd\n",
        "lesser_of_two_evens(2,4) --> 2\n",
        "lesser_of_two_evens(2,5) --> 5"
      ],
      "metadata": {
        "id": "flfKRAOjuPyh"
      }
    },
    {
      "cell_type": "code",
      "execution_count": 2,
      "metadata": {
        "id": "SPS83ev5uHW0"
      },
      "outputs": [],
      "source": [
        "def lesser_of_two_evens(a, b):\n",
        "    if a % 2 == 0 and b % 2 == 0:  # check if both numbers are even\n",
        "        return min(a, b)  # return the lesser of the two\n",
        "    else:\n",
        "        return max(a, b)  # return the greater of the two"
      ]
    },
    {
      "cell_type": "code",
      "source": [
        "# Check\n",
        "lesser_of_two_evens(2,4)"
      ],
      "metadata": {
        "colab": {
          "base_uri": "https://localhost:8080/"
        },
        "id": "eJ4dd-UlxQV8",
        "outputId": "1ec000c8-4ecf-4adb-c0ae-6f3902ee049c"
      },
      "execution_count": 3,
      "outputs": [
        {
          "output_type": "execute_result",
          "data": {
            "text/plain": [
              "2"
            ]
          },
          "metadata": {},
          "execution_count": 3
        }
      ]
    },
    {
      "cell_type": "code",
      "source": [
        "# Check\n",
        "lesser_of_two_evens(2,5)"
      ],
      "metadata": {
        "colab": {
          "base_uri": "https://localhost:8080/"
        },
        "id": "I1wQDlINxT4j",
        "outputId": "739521ac-ea18-437b-b592-02b47c3c393b"
      },
      "execution_count": 4,
      "outputs": [
        {
          "output_type": "execute_result",
          "data": {
            "text/plain": [
              "5"
            ]
          },
          "metadata": {},
          "execution_count": 4
        }
      ]
    },
    {
      "cell_type": "markdown",
      "source": [
        "ANIMAL CRACKERS: Write a function takes a two-word string and returns True if both words begin with same letter\n",
        "animal_crackers('Levelheaded Llama') --> True\n",
        "animal_crackers('Crazy Kangaroo') --> False"
      ],
      "metadata": {
        "id": "DJBzdG4ByHTo"
      }
    },
    {
      "cell_type": "code",
      "source": [
        "def animal_crackers(text):\n",
        "    words = text.split()\n",
        "    if words[0][0].lower() == words[1][0].lower():\n",
        "        return True\n",
        "    else:\n",
        "        return False"
      ],
      "metadata": {
        "id": "vwCDcW77yJs3"
      },
      "execution_count": 9,
      "outputs": []
    },
    {
      "cell_type": "code",
      "source": [
        "# Check\n",
        "animal_crackers('Levelheaded Llama')"
      ],
      "metadata": {
        "colab": {
          "base_uri": "https://localhost:8080/"
        },
        "id": "k-60NM8Q2Gd_",
        "outputId": "f76a6c17-f5b6-46f3-be51-b784ada88d4e"
      },
      "execution_count": 10,
      "outputs": [
        {
          "output_type": "execute_result",
          "data": {
            "text/plain": [
              "True"
            ]
          },
          "metadata": {},
          "execution_count": 10
        }
      ]
    },
    {
      "cell_type": "code",
      "source": [
        "# Check\n",
        "animal_crackers('Crazy Kangaroo')"
      ],
      "metadata": {
        "colab": {
          "base_uri": "https://localhost:8080/"
        },
        "id": "rfzNQftc2Ibk",
        "outputId": "ca758da9-d4ce-4420-f484-4127668691a5"
      },
      "execution_count": 11,
      "outputs": [
        {
          "output_type": "execute_result",
          "data": {
            "text/plain": [
              "False"
            ]
          },
          "metadata": {},
          "execution_count": 11
        }
      ]
    },
    {
      "cell_type": "markdown",
      "source": [
        "MAKES TWENTY: Given two integers, return True if the sum of the integers is 20 or if one of the integers is 20. If not, return False\n",
        "makes_twenty(20,10) --> True\n",
        "makes_twenty(12,8) --> True\n",
        "makes_twenty(2,3) --> False"
      ],
      "metadata": {
        "id": "v-ncWWz72QX-"
      }
    },
    {
      "cell_type": "code",
      "source": [
        "def makes_twenty(n1,n2): \n",
        "    if n1+n2 == 20:\n",
        "        return True\n",
        "    else:\n",
        "        return False"
      ],
      "metadata": {
        "id": "OFiuyyXD2QJ1"
      },
      "execution_count": 16,
      "outputs": []
    },
    {
      "cell_type": "code",
      "source": [
        "# Check\n",
        "makes_twenty(20,10)"
      ],
      "metadata": {
        "colab": {
          "base_uri": "https://localhost:8080/"
        },
        "id": "_mn9LhmQ2KlU",
        "outputId": "26e7f7e2-d3f4-4a35-d313-eab3053cd3bf"
      },
      "execution_count": 17,
      "outputs": [
        {
          "output_type": "execute_result",
          "data": {
            "text/plain": [
              "False"
            ]
          },
          "metadata": {},
          "execution_count": 17
        }
      ]
    },
    {
      "cell_type": "code",
      "source": [
        "# Check\n",
        "makes_twenty(2,3)"
      ],
      "metadata": {
        "colab": {
          "base_uri": "https://localhost:8080/"
        },
        "id": "LxYuOTBY266Q",
        "outputId": "fe29a711-1f98-4887-a3df-9a86f9266e3c"
      },
      "execution_count": 19,
      "outputs": [
        {
          "output_type": "execute_result",
          "data": {
            "text/plain": [
              "False"
            ]
          },
          "metadata": {},
          "execution_count": 19
        }
      ]
    },
    {
      "cell_type": "code",
      "source": [
        "def makes_twenty(n1,n2):\n",
        "    return (n1+n2)==20 or n1==20 or n2==20"
      ],
      "metadata": {
        "id": "QeZY065m3QKF"
      },
      "execution_count": 20,
      "outputs": []
    },
    {
      "cell_type": "code",
      "source": [
        "makes_twenty(20,10)"
      ],
      "metadata": {
        "colab": {
          "base_uri": "https://localhost:8080/"
        },
        "id": "hhw1RV8x3RE1",
        "outputId": "34455c45-c6eb-4030-8d14-c792e0f9c5e1"
      },
      "execution_count": 21,
      "outputs": [
        {
          "output_type": "execute_result",
          "data": {
            "text/plain": [
              "True"
            ]
          },
          "metadata": {},
          "execution_count": 21
        }
      ]
    },
    {
      "cell_type": "code",
      "source": [
        "makes_twenty(2,3)"
      ],
      "metadata": {
        "colab": {
          "base_uri": "https://localhost:8080/"
        },
        "id": "jiCQqYvD3TyH",
        "outputId": "129cd772-5ab7-4d21-a141-fbef60ba662b"
      },
      "execution_count": 22,
      "outputs": [
        {
          "output_type": "execute_result",
          "data": {
            "text/plain": [
              "False"
            ]
          },
          "metadata": {},
          "execution_count": 22
        }
      ]
    },
    {
      "cell_type": "markdown",
      "source": [
        "LEVEL 1 PROBLEMS\n",
        "OLD MACDONALD: Write a function that capitalizes the first and fourth letters of a name\n",
        "old_macdonald('macdonald') --> MacDonald"
      ],
      "metadata": {
        "id": "JqmiJM7245pS"
      }
    },
    {
      "cell_type": "code",
      "source": [
        "def old_macdonald(name):\n",
        "    if len(name) < 4:\n",
        "        return name.capitalize()\n",
        "    else:\n",
        "        return name[:3].capitalize() + name[3:].capitalize()"
      ],
      "metadata": {
        "id": "2I3SlRvl44C1"
      },
      "execution_count": 23,
      "outputs": []
    },
    {
      "cell_type": "code",
      "source": [
        "# Check\n",
        "old_macdonald('macdonald')"
      ],
      "metadata": {
        "colab": {
          "base_uri": "https://localhost:8080/",
          "height": 35
        },
        "id": "LR-SqyTR5eJQ",
        "outputId": "bbf69f05-bbe3-4d83-e747-3040dfb8464a"
      },
      "execution_count": 24,
      "outputs": [
        {
          "output_type": "execute_result",
          "data": {
            "text/plain": [
              "'MacDonald'"
            ],
            "application/vnd.google.colaboratory.intrinsic+json": {
              "type": "string"
            }
          },
          "metadata": {},
          "execution_count": 24
        }
      ]
    },
    {
      "cell_type": "code",
      "source": [
        "# Check\n",
        "old_macdonald('adrian')"
      ],
      "metadata": {
        "colab": {
          "base_uri": "https://localhost:8080/",
          "height": 35
        },
        "id": "NeZ-zRZP5kMn",
        "outputId": "ab47aa0e-3344-4b06-e137-c755b44e70ea"
      },
      "execution_count": 25,
      "outputs": [
        {
          "output_type": "execute_result",
          "data": {
            "text/plain": [
              "'AdrIan'"
            ],
            "application/vnd.google.colaboratory.intrinsic+json": {
              "type": "string"
            }
          },
          "metadata": {},
          "execution_count": 25
        }
      ]
    },
    {
      "cell_type": "markdown",
      "source": [
        "MASTER YODA: Given a sentence, return a sentence with the words reversed\n",
        "master_yoda('I am home') --> 'home am I'\n",
        "master_yoda('We are ready') --> 'ready are We'"
      ],
      "metadata": {
        "id": "lrBPm0Cc5v8H"
      }
    },
    {
      "cell_type": "code",
      "source": [
        "\"hry\".join(['a','b','c'])\n"
      ],
      "metadata": {
        "colab": {
          "base_uri": "https://localhost:8080/",
          "height": 35
        },
        "id": "C1SL88FZ5nrU",
        "outputId": "940831b6-1c34-418e-fcd5-1bebd6547b98"
      },
      "execution_count": 28,
      "outputs": [
        {
          "output_type": "execute_result",
          "data": {
            "text/plain": [
              "'ahrybhryc'"
            ],
            "application/vnd.google.colaboratory.intrinsic+json": {
              "type": "string"
            }
          },
          "metadata": {},
          "execution_count": 28
        }
      ]
    },
    {
      "cell_type": "code",
      "source": [
        "list= 'you and me'\n",
        "list[::-1] "
      ],
      "metadata": {
        "colab": {
          "base_uri": "https://localhost:8080/",
          "height": 35
        },
        "id": "2ds62MRs6lob",
        "outputId": "ec690629-51ac-4e70-c35d-aff377109bf1"
      },
      "execution_count": 43,
      "outputs": [
        {
          "output_type": "execute_result",
          "data": {
            "text/plain": [
              "'em dna uoy'"
            ],
            "application/vnd.google.colaboratory.intrinsic+json": {
              "type": "string"
            }
          },
          "metadata": {},
          "execution_count": 43
        }
      ]
    },
    {
      "cell_type": "code",
      "source": [
        "def master_yoda(sentence):\n",
        "    words = sentence.split()\n",
        "    return \" \".join(words[::-1]) #join methon and a space delimiter \"\". The function csn help to returns the new sentence."
      ],
      "metadata": {
        "id": "L6NsOoZv8MVX"
      },
      "execution_count": 46,
      "outputs": []
    },
    {
      "cell_type": "code",
      "source": [
        "sentence = 'This is fun'\n",
        "words = sentence.split()\n",
        "words"
      ],
      "metadata": {
        "colab": {
          "base_uri": "https://localhost:8080/"
        },
        "id": "tjIdleLg81ED",
        "outputId": "c700c4cb-0d5a-469e-fd80-744779438317"
      },
      "execution_count": 49,
      "outputs": [
        {
          "output_type": "execute_result",
          "data": {
            "text/plain": [
              "['This', 'is', 'fun']"
            ]
          },
          "metadata": {},
          "execution_count": 49
        }
      ]
    },
    {
      "cell_type": "code",
      "source": [
        "words[::-1]"
      ],
      "metadata": {
        "colab": {
          "base_uri": "https://localhost:8080/"
        },
        "id": "wTB4Q4YZ89Xg",
        "outputId": "c5f1be69-8708-47db-db88-864d3fabe85a"
      },
      "execution_count": 50,
      "outputs": [
        {
          "output_type": "execute_result",
          "data": {
            "text/plain": [
              "['fun', 'is', 'This']"
            ]
          },
          "metadata": {},
          "execution_count": 50
        }
      ]
    },
    {
      "cell_type": "code",
      "source": [
        "\" \".join(words[::-1])"
      ],
      "metadata": {
        "colab": {
          "base_uri": "https://localhost:8080/",
          "height": 35
        },
        "id": "nHutuEKz9Fd-",
        "outputId": "33423078-65b7-47f9-fe9f-83df6b90b799"
      },
      "execution_count": 51,
      "outputs": [
        {
          "output_type": "execute_result",
          "data": {
            "text/plain": [
              "'fun is This'"
            ],
            "application/vnd.google.colaboratory.intrinsic+json": {
              "type": "string"
            }
          },
          "metadata": {},
          "execution_count": 51
        }
      ]
    },
    {
      "cell_type": "markdown",
      "source": [
        "ALMOST THERE: Given an integer n, return True if n is within 10 of either 100 or 200\n",
        "almost_there(90) --> True\n",
        "almost_there(104) --> True\n",
        "almost_there(150) --> False\n",
        "almost_there(209) --> True"
      ],
      "metadata": {
        "id": "-X9Y9xNg9e-Q"
      }
    },
    {
      "cell_type": "code",
      "source": [
        "def almost_there(num):\n",
        "    if 90 <num < 110 or  190<num < 210 :\n",
        "        return True\n",
        "    else:\n",
        "        return False"
      ],
      "metadata": {
        "id": "F3KpTD1I9Jow"
      },
      "execution_count": 52,
      "outputs": []
    },
    {
      "cell_type": "code",
      "source": [
        "almost_there(2300)"
      ],
      "metadata": {
        "colab": {
          "base_uri": "https://localhost:8080/"
        },
        "id": "P-MhWcWQ-lkR",
        "outputId": "36a6fe0f-407e-4ed1-fda9-b133fe8d731c"
      },
      "execution_count": 54,
      "outputs": [
        {
          "output_type": "execute_result",
          "data": {
            "text/plain": [
              "False"
            ]
          },
          "metadata": {},
          "execution_count": 54
        }
      ]
    },
    {
      "cell_type": "markdown",
      "source": [
        "\n",
        "In Python, abs() is a built-in function that returns the absolute value of a number. The absolute value of a number is the magnitude of the number without its sign. For example, the absolute value of 5 is 5, and the absolute value of -5 is also 5."
      ],
      "metadata": {
        "id": "4sSSXmcX_TLW"
      }
    },
    {
      "cell_type": "code",
      "source": [
        "def almost_there(n):\n",
        "    return ((abs(100 - n) <= 10) or (abs(200 - n) <= 10))\n",
        "#In Python, abs() is a built-in function that returns the absolute value of a number. \n",
        "#The absolute value of a number is the magnitude of the number without its sign. \n",
        "#For example, the absolute value of 5 is 5, and the absolute value of -5 is also 5."
      ],
      "metadata": {
        "id": "N7hHYA2k_SEm"
      },
      "execution_count": 58,
      "outputs": []
    },
    {
      "cell_type": "code",
      "source": [
        "almost_there(90)"
      ],
      "metadata": {
        "colab": {
          "base_uri": "https://localhost:8080/"
        },
        "id": "wgWKuoyG_XWU",
        "outputId": "4a0843ee-5e18-4376-fba6-76c6457d3d90"
      },
      "execution_count": 56,
      "outputs": [
        {
          "output_type": "execute_result",
          "data": {
            "text/plain": [
              "True"
            ]
          },
          "metadata": {},
          "execution_count": 56
        }
      ]
    }
  ]
}